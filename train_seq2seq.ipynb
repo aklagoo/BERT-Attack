{
 "cells": [
  {
   "cell_type": "code",
   "execution_count": 1,
   "id": "2857a9d7-c6c9-4603-b3e3-5daca4923786",
   "metadata": {},
   "outputs": [],
   "source": [
    "import pandas as pd"
   ]
  },
  {
   "cell_type": "code",
   "execution_count": 19,
   "id": "42b62cf4-4207-4547-9cbc-0c056a0a1c0f",
   "metadata": {},
   "outputs": [],
   "source": [
    "from sklearn.model_selection import train_test_split"
   ]
  },
  {
   "cell_type": "code",
   "execution_count": 39,
   "id": "d11e9d44-c40c-4a5b-8b0a-5aa2e7b87b97",
   "metadata": {},
   "outputs": [],
   "source": [
    "from transformers import BertTokenizer, BertForNextSentencePrediction, Trainer, TrainingArguments"
   ]
  },
  {
   "cell_type": "code",
   "execution_count": 37,
   "id": "d3c7f137-9bf0-4f0c-bf6e-5d8806299162",
   "metadata": {},
   "outputs": [],
   "source": [
    "from datasets import metric, load_metric"
   ]
  },
  {
   "cell_type": "code",
   "execution_count": 26,
   "id": "a4057d12-a990-4810-8420-b1249c8d80e3",
   "metadata": {},
   "outputs": [],
   "source": [
    "from torch.utils.data import Dataset, DataLoader"
   ]
  },
  {
   "cell_type": "code",
   "execution_count": 12,
   "id": "fcf10974-43d9-44c8-84c5-8ee9d6c6d47c",
   "metadata": {},
   "outputs": [],
   "source": [
    "class Seq2SeqDataset(Dataset):\n",
    "    def __init__(self, df):\n",
    "        self.df = df\n",
    "    def __getitem__(self, idx):\n",
    "        return self.df['source'][idx], self.df['target'][idx]\n",
    "    def __len__(self):\n",
    "        return len(self.df)"
   ]
  },
  {
   "cell_type": "code",
   "execution_count": 15,
   "id": "546bb234-6c68-4ce7-b6ef-4464d51110e2",
   "metadata": {},
   "outputs": [],
   "source": [
    "def collate(batch):\n",
    "    input_ids = [x[0] for x in batch]\n",
    "    labels = [x[1] for x in batch]\n",
    "    \n",
    "    input_ids = tokenizer(input_ids, return_tensors='pt', padding=True).input_ids\n",
    "    labels = tokenizer(labels, return_tensors='pt', padding=True).input_ids\n",
    "    \n",
    "    return input_ids, labels"
   ]
  },
  {
   "cell_type": "code",
   "execution_count": 27,
   "id": "2d36dcf7-6007-45d7-862a-dcb3cc91e499",
   "metadata": {},
   "outputs": [],
   "source": [
    "def load_dataset(path):\n",
    "    df = pd.read_csv('data_defense/s2sdataset.csv')\n",
    "    df, _ = train_test_split(df, test_size=0.6)\n",
    "    train_df, test_df = train_test_split(df, test_size=0.05)\n",
    "    return Seq2SeqDataset(train_df), Seq2SeqDataset(test_df)"
   ]
  },
  {
   "cell_type": "code",
   "execution_count": 30,
   "id": "85407aad-56a5-41c3-84e7-9aadee031cc7",
   "metadata": {},
   "outputs": [],
   "source": [
    "params = {\n",
    "    'batch_size': 8,\n",
    "    'shuffle': True,\n",
    "}"
   ]
  },
  {
   "cell_type": "code",
   "execution_count": 28,
   "id": "62ccd594-d319-44f8-9a82-8c99d1b325af",
   "metadata": {},
   "outputs": [],
   "source": [
    "train_ds, test_ds = load_dataset('data_defense/s2sdataset.csv')"
   ]
  },
  {
   "cell_type": "code",
   "execution_count": 31,
   "id": "dfebc5f1-aa1c-428a-93d2-a0bb5378c37b",
   "metadata": {},
   "outputs": [],
   "source": [
    "train_loader = DataLoader(train_ds, batch_size=params['batch_size'], shuffle=params['shuffle'], collate_fn=collate)\n",
    "test_loader = DataLoader(test_ds, batch_size=params['batch_size'], shuffle=params['shuffle'], collate_fn=collate)"
   ]
  },
  {
   "cell_type": "code",
   "execution_count": null,
   "id": "8ccd03d3-dcae-462b-ab53-919c2d8c2276",
   "metadata": {},
   "outputs": [],
   "source": [
    "model = BertForNextSentencePrediction.from_pretrained()"
   ]
  },
  {
   "cell_type": "code",
   "execution_count": 40,
   "id": "3c8053cb-ddba-43d3-ae6e-eb631b10c792",
   "metadata": {},
   "outputs": [
    {
     "ename": "NameError",
     "evalue": "name 'model' is not defined",
     "output_type": "error",
     "traceback": [
      "\u001b[1;31m---------------------------------------------------------------------------\u001b[0m",
      "\u001b[1;31mNameError\u001b[0m                                 Traceback (most recent call last)",
      "Input \u001b[1;32mIn [40]\u001b[0m, in \u001b[0;36m<cell line: 12>\u001b[1;34m()\u001b[0m\n\u001b[0;32m      9\u001b[0m   \u001b[38;5;28;01mreturn\u001b[39;00m metric\u001b[38;5;241m.\u001b[39mcompute(predictions\u001b[38;5;241m=\u001b[39mpredictions, references\u001b[38;5;241m=\u001b[39mlabels)\n\u001b[0;32m     11\u001b[0m \u001b[38;5;66;03m# Train\u001b[39;00m\n\u001b[0;32m     12\u001b[0m trainer \u001b[38;5;241m=\u001b[39m Trainer(\n\u001b[1;32m---> 13\u001b[0m   model\u001b[38;5;241m=\u001b[39m\u001b[43mmodel\u001b[49m,\n\u001b[0;32m     14\u001b[0m   args\u001b[38;5;241m=\u001b[39mtraining_args,\n\u001b[0;32m     15\u001b[0m   train_dataset\u001b[38;5;241m=\u001b[39mdataset,\n\u001b[0;32m     16\u001b[0m   eval_dataset\u001b[38;5;241m=\u001b[39mdataset,\n\u001b[0;32m     17\u001b[0m   compute_metrics\u001b[38;5;241m=\u001b[39mcompute_metrics,\n\u001b[0;32m     18\u001b[0m )\n\u001b[0;32m     19\u001b[0m trainer\u001b[38;5;241m.\u001b[39mtrain()\n",
      "\u001b[1;31mNameError\u001b[0m: name 'model' is not defined"
     ]
    }
   ],
   "source": [
    "# Metrics\n",
    "metric = load_metric(\"accuracy\")\n",
    "\n",
    "training_args = TrainingArguments(output_dir=\"models/imdb_classifier\", evaluation_strategy=\"epoch\")\n",
    "\n",
    "def compute_metrics(eval_pred):\n",
    "  logits, labels = eval_pred\n",
    "  predictions = np.argmax(logits, axis=-1)\n",
    "  return metric.compute(predictions=predictions, references=labels)\n",
    "\n",
    "# Train\n",
    "trainer = Trainer(\n",
    "  model=model,\n",
    "  args=training_args,\n",
    "  train_dataset=dataset,\n",
    "  eval_dataset=dataset,\n",
    "  compute_metrics=compute_metrics,\n",
    ")\n",
    "trainer.train()"
   ]
  }
 ],
 "metadata": {
  "kernelspec": {
   "display_name": "Python 3 (ipykernel)",
   "language": "python",
   "name": "python3"
  },
  "language_info": {
   "codemirror_mode": {
    "name": "ipython",
    "version": 3
   },
   "file_extension": ".py",
   "mimetype": "text/x-python",
   "name": "python",
   "nbconvert_exporter": "python",
   "pygments_lexer": "ipython3",
   "version": "3.9.11"
  }
 },
 "nbformat": 4,
 "nbformat_minor": 5
}
