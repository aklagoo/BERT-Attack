{
 "cells": [
  {
   "cell_type": "code",
   "execution_count": 4,
   "id": "b8f94e5a-2283-4d6f-91eb-2d65256b9d57",
   "metadata": {},
   "outputs": [],
   "source": [
    "import pickle"
   ]
  },
  {
   "cell_type": "code",
   "execution_count": 5,
   "id": "7d95287b-8b85-4a3c-8c75-2eb562ecfb5b",
   "metadata": {},
   "outputs": [],
   "source": [
    "import numpy as np"
   ]
  },
  {
   "cell_type": "code",
   "execution_count": 6,
   "id": "b1699794-b2c6-4c5e-869a-69cdfcb0071e",
   "metadata": {},
   "outputs": [],
   "source": [
    "import pandas as pd"
   ]
  },
  {
   "cell_type": "code",
   "execution_count": 1,
   "id": "a09b3691-1911-4d9b-ab2c-0f622a10e091",
   "metadata": {},
   "outputs": [
    {
     "ename": "NameError",
     "evalue": "name 'pickle' is not defined",
     "output_type": "error",
     "traceback": [
      "\u001b[1;31m---------------------------------------------------------------------------\u001b[0m",
      "\u001b[1;31mNameError\u001b[0m                                 Traceback (most recent call last)",
      "Input \u001b[1;32mIn [1]\u001b[0m, in \u001b[0;36m<cell line: 1>\u001b[1;34m()\u001b[0m\n\u001b[0;32m      1\u001b[0m \u001b[38;5;28;01mwith\u001b[39;00m \u001b[38;5;28mopen\u001b[39m(\u001b[38;5;124m'\u001b[39m\u001b[38;5;124mdata_defense/infinite.pickle\u001b[39m\u001b[38;5;124m'\u001b[39m, \u001b[38;5;124m'\u001b[39m\u001b[38;5;124mrb\u001b[39m\u001b[38;5;124m'\u001b[39m) \u001b[38;5;28;01mas\u001b[39;00m file:\n\u001b[1;32m----> 2\u001b[0m     obj \u001b[38;5;241m=\u001b[39m \u001b[43mpickle\u001b[49m\u001b[38;5;241m.\u001b[39mload(file)\n",
      "\u001b[1;31mNameError\u001b[0m: name 'pickle' is not defined"
     ]
    }
   ],
   "source": [
    "'data_defense/infinite.pickle'"
   ]
  },
  {
   "cell_type": "code",
   "execution_count": 12,
   "id": "97eee7ea-623b-4e8b-9ba0-9b0cb7851e13",
   "metadata": {},
   "outputs": [],
   "source": [
    "def generate_dataset(path):\n",
    "    with open(path, 'rb') as file:\n",
    "        obj = pickle.load(file)\n",
    "        \n",
    "        sources = []\n",
    "        targets = []\n",
    "        \n",
    "        for i, feature in enumerate(obj):\n",
    "            source = feature.seq\n",
    "            label = feature.label\n",
    "            for j, (adv_text, adv_prob) in enumerate(zip(feature.adv_texts, feature.adv_probs)):\n",
    "                tgt_word, _, target = adv_text\n",
    "                attacked_label = np.argmax(adv_prob)\n",
    "                if label != attacked_label:\n",
    "                    sources.append(source)\n",
    "                    targets.append(target)\n",
    "        \n",
    "        df = pd.DataFrame({'source': sources, 'target': targets})\n",
    "        return df"
   ]
  },
  {
   "cell_type": "code",
   "execution_count": 13,
   "id": "8549e28a-990f-4fdc-9037-ff82d2f5eba3",
   "metadata": {},
   "outputs": [],
   "source": [
    "df1 = generate_dataset('data_defense/infinite.pickle')"
   ]
  },
  {
   "cell_type": "code",
   "execution_count": 14,
   "id": "02799cd9-3322-4566-ba9d-da3e6fd59272",
   "metadata": {},
   "outputs": [],
   "source": [
    "df2 = generate_dataset('data_defense/infinite1.pickle')"
   ]
  },
  {
   "cell_type": "code",
   "execution_count": 15,
   "id": "c15e6cf8-53a2-4edf-8b52-2f98051e5ab8",
   "metadata": {},
   "outputs": [],
   "source": [
    "df = pd.concat([df1, df2], axis=0)"
   ]
  },
  {
   "cell_type": "code",
   "execution_count": 16,
   "id": "ca33e1f9-3d18-4e45-b516-7dcae90b9c06",
   "metadata": {},
   "outputs": [],
   "source": [
    "df.to_csv('data_defense/s2sdataset.csv')"
   ]
  }
 ],
 "metadata": {
  "kernelspec": {
   "display_name": "Python 3 (ipykernel)",
   "language": "python",
   "name": "python3"
  },
  "language_info": {
   "codemirror_mode": {
    "name": "ipython",
    "version": 3
   },
   "file_extension": ".py",
   "mimetype": "text/x-python",
   "name": "python",
   "nbconvert_exporter": "python",
   "pygments_lexer": "ipython3",
   "version": "3.9.11"
  }
 },
 "nbformat": 4,
 "nbformat_minor": 5
}
